{
 "cells": [
  {
   "cell_type": "markdown",
   "id": "2c71bc68-fd60-49d2-af93-91b867b0ee7d",
   "metadata": {},
   "source": [
    "# Tutorials\n",
    "\n",
    "## Schemas in detail"
   ]
  },
  {
   "cell_type": "code",
   "execution_count": 1,
   "id": "5389be45-0e6a-4191-af56-239fa658bb36",
   "metadata": {},
   "outputs": [],
   "source": [
    "import weaviate\n",
    "import json\n",
    "import os\n",
    "\n",
    "api_tkn = os.environ[\"OPENAI_API_KEY\"]\n",
    "\n",
    "client = weaviate.Client(\n",
    "    url=\"https://jptemp.weaviate.network/\",  # Replace with your endpoint\n",
    "    additional_headers={\n",
    "        \"X-OpenAI-Api-Key\": api_tkn  # Or \"X-Cohere-Api-Key\" or \"X-HuggingFace-Api-Key\" \n",
    "    }\n",
    ")"
   ]
  },
  {
   "cell_type": "code",
   "execution_count": 2,
   "id": "6ab66d12-afba-4ea8-b2d9-6c2a2b08a46b",
   "metadata": {},
   "outputs": [],
   "source": [
    "# delete class \"YourClassName\" - THIS WILL DELETE ALL DATA IN THIS CLASS\n",
    "client.schema.delete_class(\"Question\")  # Replace with your class name - e.g. \"Question\""
   ]
  },
  {
   "cell_type": "code",
   "execution_count": 3,
   "id": "e3ab6fce-4908-42f6-be63-59cf7df8e3ba",
   "metadata": {},
   "outputs": [
    {
     "name": "stdout",
     "output_type": "stream",
     "text": [
      "{\n",
      "    \"classes\": []\n",
      "}\n"
     ]
    }
   ],
   "source": [
    "schema = client.schema.get()\n",
    "print(json.dumps(schema, indent=4))"
   ]
  },
  {
   "cell_type": "code",
   "execution_count": 4,
   "id": "fea1d605-cff9-4adf-bc75-ea34d89cb3cb",
   "metadata": {},
   "outputs": [
    {
     "name": "stdout",
     "output_type": "stream",
     "text": [
      "{\n",
      "    \"classes\": [\n",
      "        {\n",
      "            \"class\": \"Question\",\n",
      "            \"description\": \"Information from a Jeopardy! question\",\n",
      "            \"invertedIndexConfig\": {\n",
      "                \"bm25\": {\n",
      "                    \"b\": 0.75,\n",
      "                    \"k1\": 1.2\n",
      "                },\n",
      "                \"cleanupIntervalSeconds\": 60,\n",
      "                \"stopwords\": {\n",
      "                    \"additions\": null,\n",
      "                    \"preset\": \"en\",\n",
      "                    \"removals\": null\n",
      "                }\n",
      "            },\n",
      "            \"moduleConfig\": {\n",
      "                \"text2vec-openai\": {\n",
      "                    \"model\": \"ada\",\n",
      "                    \"modelVersion\": \"002\",\n",
      "                    \"type\": \"text\",\n",
      "                    \"vectorizeClassName\": true\n",
      "                }\n",
      "            },\n",
      "            \"properties\": [\n",
      "                {\n",
      "                    \"dataType\": [\n",
      "                        \"text\"\n",
      "                    ],\n",
      "                    \"description\": \"The question\",\n",
      "                    \"moduleConfig\": {\n",
      "                        \"text2vec-openai\": {\n",
      "                            \"skip\": false,\n",
      "                            \"vectorizePropertyName\": false\n",
      "                        }\n",
      "                    },\n",
      "                    \"name\": \"question\",\n",
      "                    \"tokenization\": \"word\"\n",
      "                },\n",
      "                {\n",
      "                    \"dataType\": [\n",
      "                        \"text\"\n",
      "                    ],\n",
      "                    \"description\": \"The answer\",\n",
      "                    \"moduleConfig\": {\n",
      "                        \"text2vec-openai\": {\n",
      "                            \"skip\": false,\n",
      "                            \"vectorizePropertyName\": false\n",
      "                        }\n",
      "                    },\n",
      "                    \"name\": \"answer\",\n",
      "                    \"tokenization\": \"word\"\n",
      "                },\n",
      "                {\n",
      "                    \"dataType\": [\n",
      "                        \"text\"\n",
      "                    ],\n",
      "                    \"description\": \"The category\",\n",
      "                    \"moduleConfig\": {\n",
      "                        \"text2vec-openai\": {\n",
      "                            \"skip\": false,\n",
      "                            \"vectorizePropertyName\": false\n",
      "                        }\n",
      "                    },\n",
      "                    \"name\": \"category\",\n",
      "                    \"tokenization\": \"word\"\n",
      "                }\n",
      "            ],\n",
      "            \"replicationConfig\": {\n",
      "                \"factor\": 1\n",
      "            },\n",
      "            \"shardingConfig\": {\n",
      "                \"virtualPerPhysical\": 128,\n",
      "                \"desiredCount\": 1,\n",
      "                \"actualCount\": 1,\n",
      "                \"desiredVirtualCount\": 128,\n",
      "                \"actualVirtualCount\": 128,\n",
      "                \"key\": \"_id\",\n",
      "                \"strategy\": \"hash\",\n",
      "                \"function\": \"murmur3\"\n",
      "            },\n",
      "            \"vectorIndexConfig\": {\n",
      "                \"skip\": false,\n",
      "                \"cleanupIntervalSeconds\": 300,\n",
      "                \"maxConnections\": 64,\n",
      "                \"efConstruction\": 128,\n",
      "                \"ef\": -1,\n",
      "                \"dynamicEfMin\": 100,\n",
      "                \"dynamicEfMax\": 500,\n",
      "                \"dynamicEfFactor\": 8,\n",
      "                \"vectorCacheMaxObjects\": 1000000000000,\n",
      "                \"flatSearchCutoff\": 40000,\n",
      "                \"distance\": \"cosine\"\n",
      "            },\n",
      "            \"vectorIndexType\": \"hnsw\",\n",
      "            \"vectorizer\": \"text2vec-openai\"\n",
      "        }\n",
      "    ]\n",
      "}\n"
     ]
    }
   ],
   "source": [
    "# import weaviate\n",
    "# import json\n",
    "\n",
    "# client = weaviate.Client(\"https://jptemp.weaviate.network/\")  # Replace with your endpoint\n",
    "\n",
    "# we will create the class \"Question\"\n",
    "class_obj = {\n",
    "    \"class\": \"Question\",\n",
    "    \"description\": \"Information from a Jeopardy! question\",  # description of the class\n",
    "    \"properties\": [\n",
    "        {\n",
    "            \"dataType\": [\"text\"],\n",
    "            \"description\": \"The question\",\n",
    "            \"name\": \"question\",\n",
    "        },\n",
    "        {\n",
    "            \"dataType\": [\"text\"],\n",
    "            \"description\": \"The answer\",\n",
    "            \"name\": \"answer\",\n",
    "        },\n",
    "        {\n",
    "            \"dataType\": [\"text\"],\n",
    "            \"description\": \"The category\",\n",
    "            \"name\": \"category\",\n",
    "        },        \n",
    "    ],\n",
    "    \"vectorizer\": \"text2vec-openai\",\n",
    "}\n",
    "\n",
    "# add the schema\n",
    "client.schema.create_class(class_obj)\n",
    "\n",
    "# get the schema\n",
    "schema = client.schema.get()\n",
    "\n",
    "# print the schema\n",
    "print(json.dumps(schema, indent=4))"
   ]
  },
  {
   "cell_type": "markdown",
   "id": "910bd325-2885-46fa-949f-d224828a24aa",
   "metadata": {},
   "source": [
    "## Imports in detail"
   ]
  },
  {
   "cell_type": "code",
   "execution_count": 5,
   "id": "3d04f22c-4143-4ada-a0b8-b6791502ea0a",
   "metadata": {},
   "outputs": [],
   "source": [
    "# import weaviate\n",
    "# import json\n",
    "# import os\n",
    "\n",
    "# client = weaviate.Client(\n",
    "#     url=\"https://jptemp.weaviate.network/\",  # Replace with your endpoint\n",
    "#     additional_headers={\n",
    "#         \"X-OpenAI-Api-Key\": os.environ[\"OPENAI_API_KEY\"]  # Or \"X-Cohere-Api-Key\" or \"X-HuggingFace-Api-Key\" \n",
    "#     }\n",
    "# )\n",
    "\n",
    "# ===== import data ===== \n",
    "# Load data \n",
    "import requests\n",
    "url = 'https://raw.githubusercontent.com/weaviate-tutorials/quickstart/main/data/jeopardy_tiny.json'\n",
    "resp = requests.get(url)\n",
    "data = json.loads(resp.text)\n",
    "\n",
    "# Prepare a batch process\n",
    "with client.batch as batch:\n",
    "    batch.batch_size=100\n",
    "    # Batch import all Questions\n",
    "    for i, d in enumerate(data):\n",
    "        # print(f\"importing question: {i+1}\")  # To see imports\n",
    "\n",
    "        properties = {\n",
    "            \"answer\": d[\"Answer\"],\n",
    "            \"question\": d[\"Question\"],\n",
    "            \"category\": d[\"Category\"],             \n",
    "        }\n",
    "\n",
    "        client.batch.add_data_object(properties, \"Question\")"
   ]
  },
  {
   "cell_type": "code",
   "execution_count": 6,
   "id": "ad42dfbd-f4f0-4bfc-a8d8-06ef519ef2a8",
   "metadata": {},
   "outputs": [
    {
     "data": {
      "text/plain": [
       "{'data': {'Get': {'Question': [{'answer': 'the diamondback rattler',\n",
       "     'question': 'Heaviest of all poisonous snakes is this North American rattlesnake'},\n",
       "    {'answer': 'Antelope',\n",
       "     'question': 'Weighing around a ton, the eland is the largest species of this animal in Africa'},\n",
       "    {'answer': 'wire',\n",
       "     'question': 'A metal that is ductile can be pulled into this while cold & under pressure'},\n",
       "    {'answer': 'the nose or snout',\n",
       "     'question': 'The gavial looks very much like a crocodile except for this bodily feature'},\n",
       "    {'answer': 'Liver',\n",
       "     'question': 'This organ removes excess glucose from the blood & stores it as glycogen'},\n",
       "    {'answer': 'DNA',\n",
       "     'question': 'In 1953 Watson & Crick built a model of the molecular structure of this, the gene-carrying substance'},\n",
       "    {'answer': 'the atmosphere',\n",
       "     'question': 'Changes in the tropospheric layer of this are what gives us weather'},\n",
       "    {'answer': 'species',\n",
       "     'question': \"2000 news: the Gunnison sage grouse isn't just another northern sage grouse, but a new one of this classification\"},\n",
       "    {'answer': 'Elephant',\n",
       "     'question': \"It's the only living mammal in the order Proboseidea\"},\n",
       "    {'answer': 'Sound barrier',\n",
       "     'question': 'In 70-degree air, a plane traveling at about 1,130 feet per second breaks it'}]}}}"
      ]
     },
     "execution_count": 6,
     "metadata": {},
     "output_type": "execute_result"
    }
   ],
   "source": [
    "client.query.get(\"Question\", [\"question answer\"]).do()"
   ]
  },
  {
   "cell_type": "markdown",
   "id": "0d3dfd8d-7c76-41c2-9b1d-95b530e9d60d",
   "metadata": {},
   "source": [
    "## Queries in detail"
   ]
  },
  {
   "cell_type": "code",
   "execution_count": 7,
   "id": "87f5f4c0-3d49-4f47-9d65-d40d8c6cce7b",
   "metadata": {},
   "outputs": [
    {
     "name": "stdout",
     "output_type": "stream",
     "text": [
      "{\n",
      "    \"data\": {\n",
      "        \"Get\": {\n",
      "            \"Question\": [\n",
      "                {\n",
      "                    \"answer\": \"DNA\",\n",
      "                    \"category\": \"SCIENCE\",\n",
      "                    \"question\": \"In 1953 Watson & Crick built a model of the molecular structure of this, the gene-carrying substance\"\n",
      "                },\n",
      "                {\n",
      "                    \"answer\": \"species\",\n",
      "                    \"category\": \"SCIENCE\",\n",
      "                    \"question\": \"2000 news: the Gunnison sage grouse isn't just another northern sage grouse, but a new one of this classification\"\n",
      "                }\n",
      "            ]\n",
      "        }\n",
      "    }\n",
      "}\n"
     ]
    }
   ],
   "source": [
    "# import weaviate\n",
    "# import json\n",
    "\n",
    "# client = weaviate.Client(\n",
    "#     url=\"https://some-endpoint.weaviate.network/\",  # Replace with your endpoint\n",
    "#     additional_headers={\n",
    "#         \"X-OpenAI-Api-Key\": \"<THE-KEY>\"  # Replace with your API key\n",
    "#     }\n",
    "# )\n",
    "\n",
    "nearText = {\"concepts\": [\"biology\"]}\n",
    "\n",
    "result = (\n",
    "    client.query\n",
    "    .get(\"Question\", [\"question\", \"answer\", \"category\"])\n",
    "    .with_near_text(nearText)\n",
    "    .with_limit(2)\n",
    "    .do()\n",
    ")\n",
    "\n",
    "print(json.dumps(result, indent=4))"
   ]
  },
  {
   "cell_type": "code",
   "execution_count": 8,
   "id": "ee6a7cc5-a984-468c-8709-21b59704c7c6",
   "metadata": {},
   "outputs": [],
   "source": [
    "import openai\n",
    "\n",
    "openai.api_key = api_tkn\n",
    "model=\"text-embedding-ada-002\"\n",
    "oai_resp = openai.Embedding.create(input = [\"biology\"], model=model)\n",
    "\n",
    "oai_embedding = oai_resp['data'][0]['embedding']\n",
    "\n",
    "result = (\n",
    "    client.query\n",
    "    .get(\"Question\", [\"question\", \"answer\"])\n",
    "    .with_near_vector({\n",
    "        \"vector\": oai_embedding,\n",
    "        \"certainty\": 0.7\n",
    "    })\n",
    "    .with_limit(2)\n",
    "    .do()\n",
    ")"
   ]
  },
  {
   "cell_type": "code",
   "execution_count": 9,
   "id": "d2f84cb2-ea46-4396-ae61-347535392adb",
   "metadata": {},
   "outputs": [
    {
     "data": {
      "text/plain": [
       "{'data': {'Get': {'Question': [{'answer': 'DNA',\n",
       "     'question': 'In 1953 Watson & Crick built a model of the molecular structure of this, the gene-carrying substance'},\n",
       "    {'answer': 'species',\n",
       "     'question': \"2000 news: the Gunnison sage grouse isn't just another northern sage grouse, but a new one of this classification\"}]}}}"
      ]
     },
     "execution_count": 9,
     "metadata": {},
     "output_type": "execute_result"
    }
   ],
   "source": [
    "result"
   ]
  },
  {
   "cell_type": "code",
   "execution_count": 10,
   "id": "11c131ac-07f3-44ca-b6af-4d0c109ac304",
   "metadata": {},
   "outputs": [
    {
     "name": "stdout",
     "output_type": "stream",
     "text": [
      "{\n",
      "    \"data\": {\n",
      "        \"Get\": {\n",
      "            \"Question\": [\n",
      "                {\n",
      "                    \"_additional\": {\n",
      "                        \"certainty\": 0.9016839563846588\n",
      "                    },\n",
      "                    \"answer\": \"DNA\",\n",
      "                    \"category\": \"SCIENCE\",\n",
      "                    \"question\": \"In 1953 Watson & Crick built a model of the molecular structure of this, the gene-carrying substance\"\n",
      "                },\n",
      "                {\n",
      "                    \"_additional\": {\n",
      "                        \"certainty\": 0.8992441892623901\n",
      "                    },\n",
      "                    \"answer\": \"species\",\n",
      "                    \"category\": \"SCIENCE\",\n",
      "                    \"question\": \"2000 news: the Gunnison sage grouse isn't just another northern sage grouse, but a new one of this classification\"\n",
      "                }\n",
      "            ]\n",
      "        }\n",
      "    }\n",
      "}\n"
     ]
    }
   ],
   "source": [
    "nearText = {\"concepts\": [\"biology\"]}\n",
    "\n",
    "result = (\n",
    "    client.query\n",
    "    .get(\"Question\", [\"question\", \"answer\", \"category\"])\n",
    "    .with_near_text(nearText)\n",
    "    .with_limit(2)\n",
    "    .with_additional(['certainty'])\n",
    "    .do()\n",
    ")\n",
    "\n",
    "print(json.dumps(result, indent=4))"
   ]
  },
  {
   "cell_type": "code",
   "execution_count": 11,
   "id": "b9f593c1-5304-48fa-a042-1bf02891a99d",
   "metadata": {},
   "outputs": [
    {
     "name": "stdout",
     "output_type": "stream",
     "text": [
      "{\n",
      "    \"data\": {\n",
      "        \"Get\": {\n",
      "            \"Question\": [\n",
      "                {\n",
      "                    \"answer\": \"the diamondback rattler\",\n",
      "                    \"category\": \"ANIMALS\",\n",
      "                    \"question\": \"Heaviest of all poisonous snakes is this North American rattlesnake\"\n",
      "                },\n",
      "                {\n",
      "                    \"answer\": \"the nose or snout\",\n",
      "                    \"category\": \"ANIMALS\",\n",
      "                    \"question\": \"The gavial looks very much like a crocodile except for this bodily feature\"\n",
      "                },\n",
      "                {\n",
      "                    \"answer\": \"Antelope\",\n",
      "                    \"category\": \"ANIMALS\",\n",
      "                    \"question\": \"Weighing around a ton, the eland is the largest species of this animal in Africa\"\n",
      "                },\n",
      "                {\n",
      "                    \"answer\": \"Elephant\",\n",
      "                    \"category\": \"ANIMALS\",\n",
      "                    \"question\": \"It's the only living mammal in the order Proboseidea\"\n",
      "                }\n",
      "            ]\n",
      "        }\n",
      "    }\n",
      "}\n"
     ]
    }
   ],
   "source": [
    "where_filter = {\n",
    "    \"path\": [\"category\"],\n",
    "    \"operator\": \"Equal\",\n",
    "    \"valueText\": \"ANIMALS\",\n",
    "}\n",
    "\n",
    "result = (\n",
    "    client.query\n",
    "    .get(\"Question\", [\"question\", \"answer\", \"category\"])\n",
    "    .with_where(where_filter)\n",
    "    .do()\n",
    ")\n",
    "\n",
    "print(json.dumps(result, indent=4))"
   ]
  },
  {
   "cell_type": "code",
   "execution_count": 12,
   "id": "7e7acdbd-5619-4260-a38c-3defd1b0c971",
   "metadata": {},
   "outputs": [
    {
     "name": "stdout",
     "output_type": "stream",
     "text": [
      "{\n",
      "    \"data\": {\n",
      "        \"Get\": {\n",
      "            \"Question\": [\n",
      "                {\n",
      "                    \"_additional\": {\n",
      "                        \"certainty\": 0.8898123800754547\n",
      "                    },\n",
      "                    \"answer\": \"the nose or snout\",\n",
      "                    \"category\": \"ANIMALS\",\n",
      "                    \"question\": \"The gavial looks very much like a crocodile except for this bodily feature\"\n",
      "                },\n",
      "                {\n",
      "                    \"_additional\": {\n",
      "                        \"certainty\": 0.8876416385173798\n",
      "                    },\n",
      "                    \"answer\": \"Elephant\",\n",
      "                    \"category\": \"ANIMALS\",\n",
      "                    \"question\": \"It's the only living mammal in the order Proboseidea\"\n",
      "                }\n",
      "            ]\n",
      "        }\n",
      "    }\n",
      "}\n"
     ]
    }
   ],
   "source": [
    "nearText = {\"concepts\": [\"biology\"]}\n",
    "where_filter = {\n",
    "    \"path\": [\"category\"],\n",
    "    \"operator\": \"Equal\",\n",
    "    \"valueText\": \"ANIMALS\",\n",
    "}\n",
    "\n",
    "result = (\n",
    "    client.query\n",
    "    .get(\"Question\", [\"question\", \"answer\", \"category\"])\n",
    "    .with_near_text(nearText)\n",
    "    .with_limit(2)\n",
    "    .with_additional(['certainty'])    \n",
    "    .with_where(where_filter)\n",
    "    .do()\n",
    ")\n",
    "\n",
    "print(json.dumps(result, indent=4))"
   ]
  },
  {
   "cell_type": "code",
   "execution_count": 13,
   "id": "9fa14e9e-e9f0-4f1c-bda5-51ba27715aff",
   "metadata": {},
   "outputs": [
    {
     "name": "stdout",
     "output_type": "stream",
     "text": [
      "{\n",
      "    \"data\": {\n",
      "        \"Aggregate\": {\n",
      "            \"Question\": [\n",
      "                {\n",
      "                    \"meta\": {\n",
      "                        \"count\": 10\n",
      "                    }\n",
      "                }\n",
      "            ]\n",
      "        }\n",
      "    }\n",
      "}\n"
     ]
    }
   ],
   "source": [
    "result = (\n",
    "    client.query\n",
    "    .aggregate(\"Question\")\n",
    "    .with_fields(\"meta {count}\")\n",
    "    .do()\n",
    ")\n",
    "\n",
    "print(json.dumps(result, indent=4))"
   ]
  },
  {
   "cell_type": "code",
   "execution_count": 14,
   "id": "e6aafc75-183d-401e-8c96-2155cb6c59f0",
   "metadata": {},
   "outputs": [
    {
     "name": "stdout",
     "output_type": "stream",
     "text": [
      "{\n",
      "    \"data\": {\n",
      "        \"Aggregate\": {\n",
      "            \"Question\": [\n",
      "                {\n",
      "                    \"meta\": {\n",
      "                        \"count\": 4\n",
      "                    }\n",
      "                }\n",
      "            ]\n",
      "        }\n",
      "    }\n",
      "}\n"
     ]
    }
   ],
   "source": [
    "where_filter = {\n",
    "    \"path\": [\"category\"],\n",
    "    \"operator\": \"Equal\",\n",
    "    \"valueText\": \"ANIMALS\",\n",
    "}\n",
    "\n",
    "result = (\n",
    "    client.query\n",
    "    .aggregate(\"Question\")\n",
    "    .with_fields(\"meta {count}\")\n",
    "    .with_where(where_filter)\n",
    "    .do()\n",
    ")\n",
    "\n",
    "print(json.dumps(result, indent=4))"
   ]
  },
  {
   "cell_type": "code",
   "execution_count": null,
   "id": "74ec9059-21ed-4645-ba3e-2ea136c8dc9f",
   "metadata": {},
   "outputs": [],
   "source": []
  }
 ],
 "metadata": {
  "kernelspec": {
   "display_name": "Python 3 (ipykernel)",
   "language": "python",
   "name": "python3"
  },
  "language_info": {
   "codemirror_mode": {
    "name": "ipython",
    "version": 3
   },
   "file_extension": ".py",
   "mimetype": "text/x-python",
   "name": "python",
   "nbconvert_exporter": "python",
   "pygments_lexer": "ipython3",
   "version": "3.10.8"
  }
 },
 "nbformat": 4,
 "nbformat_minor": 5
}
