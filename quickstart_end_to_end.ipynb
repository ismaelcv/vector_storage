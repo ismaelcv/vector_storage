{
 "cells": [
  {
   "attachments": {},
   "cell_type": "markdown",
   "id": "7e3a0557",
   "metadata": {},
   "source": [
    "## Weaviate Quickstart - Python code\n",
    "\n",
    "This is an example Python (Jupyter) notebook for the [Weaviate Quickstart tutorial](https://weaviate.io/developers/weaviate/quickstart).\n",
    "\n",
    "<a target=\"_blank\" href=\"https://colab.research.google.com/github/weaviate-tutorials/quickstart/blob/main/quickstart_end_to_end.ipynb\">\n",
    "  <img src=\"https://colab.research.google.com/assets/colab-badge.svg\" alt=\"Open In Colab\"/>\n",
    "</a>\n",
    "\n",
    "*Last updated: 2 Feb 2023*"
   ]
  },
  {
   "cell_type": "code",
   "execution_count": 1,
   "id": "078afcd4",
   "metadata": {},
   "outputs": [],
   "source": [
    "# Install Weaviate if necessary\n",
    "# !pip install -Uqq weaviate-client"
   ]
  },
  {
   "cell_type": "markdown",
   "id": "1622e7e2-7cf2-4617-985e-0cd215a23a12",
   "metadata": {},
   "source": [
    "Note: Remember to replace the API key, parameter name and vectorizer in the cells below to correspond to your preferred inference API."
   ]
  },
  {
   "cell_type": "code",
   "execution_count": 2,
   "id": "a7506810-bdb8-4938-ba35-7b8b7d2fa14c",
   "metadata": {},
   "outputs": [
    {
     "ename": "TypeError",
     "evalue": "URL is expected to be string but is <class 'NoneType'>",
     "output_type": "error",
     "traceback": [
      "\u001b[0;31m---------------------------------------------------------------------------\u001b[0m",
      "\u001b[0;31mTypeError\u001b[0m                                 Traceback (most recent call last)",
      "Cell \u001b[0;32mIn[2], line 13\u001b[0m\n\u001b[1;32m     10\u001b[0m \u001b[39mimport\u001b[39;00m \u001b[39mjson\u001b[39;00m\n\u001b[1;32m     12\u001b[0m \u001b[39m# Instantiate Weaviate client\u001b[39;00m\n\u001b[0;32m---> 13\u001b[0m client \u001b[39m=\u001b[39m weaviate\u001b[39m.\u001b[39;49mClient(\n\u001b[1;32m     14\u001b[0m     url\u001b[39m=\u001b[39;49mapi_url,  \u001b[39m# Replace this with your WCS or Docker endpoint (use HTTP, not HTTPS for local addresses)\u001b[39;49;00m\n\u001b[1;32m     15\u001b[0m     additional_headers\u001b[39m=\u001b[39;49m{\n\u001b[1;32m     16\u001b[0m         \u001b[39m\"\u001b[39;49m\u001b[39mX-OpenAI-Api-Key\u001b[39;49m\u001b[39m\"\u001b[39;49m: api_tkn  \u001b[39m# Or \"X-Cohere-Api-Key\" or \"X-HuggingFace-Api-Key\" \u001b[39;49;00m\n\u001b[1;32m     17\u001b[0m     }\n\u001b[1;32m     18\u001b[0m )\n",
      "File \u001b[0;32m~/repos/gdd_internal/vector_storage/.venv/lib/python3.10/site-packages/weaviate/client.py:133\u001b[0m, in \u001b[0;36mClient.__init__\u001b[0;34m(self, url, auth_client_secret, timeout_config, proxies, trust_env, additional_headers, startup_period, embedded_options)\u001b[0m\n\u001b[1;32m     61\u001b[0m \u001b[39m\u001b[39m\u001b[39m\"\"\"\u001b[39;00m\n\u001b[1;32m     62\u001b[0m \u001b[39mInitialize a Client class instance.\u001b[39;00m\n\u001b[1;32m     63\u001b[0m \n\u001b[0;32m   (...)\u001b[0m\n\u001b[1;32m    129\u001b[0m \u001b[39m    If arguments are of a wrong data type.\u001b[39;00m\n\u001b[1;32m    130\u001b[0m \u001b[39m\"\"\"\u001b[39;00m\n\u001b[1;32m    132\u001b[0m \u001b[39mif\u001b[39;00m embedded_options \u001b[39mis\u001b[39;00m \u001b[39mNone\u001b[39;00m \u001b[39mand\u001b[39;00m \u001b[39mnot\u001b[39;00m \u001b[39misinstance\u001b[39m(url, \u001b[39mstr\u001b[39m):\n\u001b[0;32m--> 133\u001b[0m     \u001b[39mraise\u001b[39;00m \u001b[39mTypeError\u001b[39;00m(\u001b[39mf\u001b[39m\u001b[39m\"\u001b[39m\u001b[39mURL is expected to be string but is \u001b[39m\u001b[39m{\u001b[39;00m\u001b[39mtype\u001b[39m(url)\u001b[39m}\u001b[39;00m\u001b[39m\"\u001b[39m)\n\u001b[1;32m    134\u001b[0m \u001b[39mif\u001b[39;00m embedded_options \u001b[39mis\u001b[39;00m \u001b[39mnot\u001b[39;00m \u001b[39mNone\u001b[39;00m \u001b[39mand\u001b[39;00m \u001b[39misinstance\u001b[39m(url, \u001b[39mstr\u001b[39m) \u001b[39mand\u001b[39;00m \u001b[39mlen\u001b[39m(url) \u001b[39m>\u001b[39m \u001b[39m0\u001b[39m:\n\u001b[1;32m    135\u001b[0m     \u001b[39mraise\u001b[39;00m \u001b[39mTypeError\u001b[39;00m(\n\u001b[1;32m    136\u001b[0m         \u001b[39mf\u001b[39m\u001b[39m\"\u001b[39m\u001b[39mURL is not expected to be set when using embedded_options but URL was \u001b[39m\u001b[39m{\u001b[39;00murl\u001b[39m}\u001b[39;00m\u001b[39m\"\u001b[39m\n\u001b[1;32m    137\u001b[0m     )\n",
      "\u001b[0;31mTypeError\u001b[0m: URL is expected to be string but is <class 'NoneType'>"
     ]
    }
   ],
   "source": [
    "import os\n",
    "api_tkn = os.getenv('OPENAI_API_KEY')\n",
    "api_url = os.getenv('OPENAI_API_BASE')\n",
    "\n",
    "# with open('../keys/openai_key.txt', 'r') as f:\n",
    "#     api_tkn = f.read().strip()\n",
    "\n",
    "# Import libraries\n",
    "import weaviate\n",
    "import json\n",
    "\n",
    "# Instantiate Weaviate client\n",
    "client = weaviate.Client(\n",
    "    url=api_url,  # Replace this with your WCS or Docker endpoint (use HTTP, not HTTPS for local addresses)\n",
    "    additional_headers={\n",
    "        \"X-OpenAI-Api-Key\": api_tkn  # Or \"X-Cohere-Api-Key\" or \"X-HuggingFace-Api-Key\" \n",
    "    }\n",
    ")"
   ]
  },
  {
   "cell_type": "code",
   "execution_count": 7,
   "id": "f4ff34d9",
   "metadata": {},
   "outputs": [
    {
     "data": {
      "text/plain": [
       "NoneType"
      ]
     },
     "execution_count": 7,
     "metadata": {},
     "output_type": "execute_result"
    }
   ],
   "source": [
    "type(api_tkn)"
   ]
  },
  {
   "cell_type": "code",
   "execution_count": 3,
   "id": "75ad4907-3cb8-41b3-83b2-b8f22fc478c1",
   "metadata": {},
   "outputs": [
    {
     "name": "stdout",
     "output_type": "stream",
     "text": [
      "{\n",
      "    \"classes\": []\n",
      "}\n"
     ]
    }
   ],
   "source": [
    "# Delete existing schema (if necessary - THIS WILL ALSO DELETE ALL OF YOUR DATA)\n",
    "client.schema.delete_all()\n",
    "\n",
    "# Fetch & inspect schema (should be empty)\n",
    "schema = client.schema.get()\n",
    "print(json.dumps(schema, indent=4))"
   ]
  },
  {
   "cell_type": "code",
   "execution_count": 4,
   "id": "0f368ec2-6df8-4696-a926-e440a69e66e8",
   "metadata": {},
   "outputs": [],
   "source": [
    "# ===== add schema ===== \n",
    "class_obj = {\n",
    "    \"class\": \"Question\",\n",
    "    \"vectorizer\": \"text2vec-openai\"  # Or \"text2vec-cohere\" or \"text2vec-huggingface\"\n",
    "}\n",
    "\n",
    "client.schema.create_class(class_obj)"
   ]
  },
  {
   "cell_type": "code",
   "execution_count": 5,
   "id": "46905daa-6348-4bd1-9ef1-86969a2e77e1",
   "metadata": {},
   "outputs": [
    {
     "name": "stdout",
     "output_type": "stream",
     "text": [
      "importing question: 1\n",
      "importing question: 2\n",
      "importing question: 3\n",
      "importing question: 4\n",
      "importing question: 5\n",
      "importing question: 6\n",
      "importing question: 7\n",
      "importing question: 8\n",
      "importing question: 9\n",
      "importing question: 10\n"
     ]
    }
   ],
   "source": [
    "# ===== import data ===== \n",
    "# Load data from GitHub\n",
    "import requests\n",
    "url = 'https://raw.githubusercontent.com/weaviate/weaviate-examples/main/jeopardy_small_dataset/jeopardy_tiny.json'\n",
    "resp = requests.get(url)\n",
    "data = json.loads(resp.text)\n",
    "\n",
    "# Configure a batch process\n",
    "with client.batch as batch:\n",
    "    batch.batch_size=100\n",
    "    # Batch import all Questions\n",
    "    for i, d in enumerate(data):\n",
    "        print(f\"importing question: {i+1}\")\n",
    "\n",
    "        properties = {\n",
    "            \"answer\": d[\"Answer\"],\n",
    "            \"question\": d[\"Question\"],\n",
    "            \"category\": d[\"Category\"],\n",
    "        }\n",
    "\n",
    "        client.batch.add_data_object(properties, \"Question\")"
   ]
  },
  {
   "cell_type": "code",
   "execution_count": 6,
   "id": "d5c034e8-dcf8-43ba-9c17-fc929da47c6a",
   "metadata": {},
   "outputs": [
    {
     "data": {
      "text/plain": [
       "{'deprecations': None,\n",
       " 'objects': [{'class': 'Question',\n",
       "   'creationTimeUnix': 1675400308853,\n",
       "   'id': '1ce93083-0b33-43c6-9041-f5238ca337c2',\n",
       "   'lastUpdateTimeUnix': 1675400308853,\n",
       "   'properties': {'answer': 'the diamondback rattler',\n",
       "    'category': 'ANIMALS',\n",
       "    'question': 'Heaviest of all poisonous snakes is this North American rattlesnake'},\n",
       "   'vectorWeights': None},\n",
       "  {'class': 'Question',\n",
       "   'creationTimeUnix': 1675400308853,\n",
       "   'id': '53b8770a-cf7b-4e34-b4a7-127a24e96ed0',\n",
       "   'lastUpdateTimeUnix': 1675400308853,\n",
       "   'properties': {'answer': 'Antelope',\n",
       "    'category': 'ANIMALS',\n",
       "    'question': 'Weighing around a ton, the eland is the largest species of this animal in Africa'},\n",
       "   'vectorWeights': None},\n",
       "  {'class': 'Question',\n",
       "   'creationTimeUnix': 1675400308853,\n",
       "   'id': '7727c6b1-aa9f-4e96-ac56-f13eda91d00d',\n",
       "   'lastUpdateTimeUnix': 1675400308853,\n",
       "   'properties': {'answer': 'the atmosphere',\n",
       "    'category': 'SCIENCE',\n",
       "    'question': 'Changes in the tropospheric layer of this are what gives us weather'},\n",
       "   'vectorWeights': None},\n",
       "  {'class': 'Question',\n",
       "   'creationTimeUnix': 1675400308853,\n",
       "   'id': 'a7f138cc-3601-4e3c-83df-fb67bf08e3d6',\n",
       "   'lastUpdateTimeUnix': 1675400308853,\n",
       "   'properties': {'answer': 'DNA',\n",
       "    'category': 'SCIENCE',\n",
       "    'question': 'In 1953 Watson & Crick built a model of the molecular structure of this, the gene-carrying substance'},\n",
       "   'vectorWeights': None},\n",
       "  {'class': 'Question',\n",
       "   'creationTimeUnix': 1675400308853,\n",
       "   'id': 'c9502927-6e35-4764-b1da-f15ce938ff9a',\n",
       "   'lastUpdateTimeUnix': 1675400308853,\n",
       "   'properties': {'answer': 'wire',\n",
       "    'category': 'SCIENCE',\n",
       "    'question': 'A metal that is \"ductile\" can be pulled into this while cold & under pressure'},\n",
       "   'vectorWeights': None},\n",
       "  {'class': 'Question',\n",
       "   'creationTimeUnix': 1675400308853,\n",
       "   'id': 'e3083a9a-9fcb-44f4-acb5-c4a88991a128',\n",
       "   'lastUpdateTimeUnix': 1675400308853,\n",
       "   'properties': {'answer': 'Liver',\n",
       "    'category': 'SCIENCE',\n",
       "    'question': 'This organ removes excess glucose from the blood & stores it as glycogen'},\n",
       "   'vectorWeights': None},\n",
       "  {'class': 'Question',\n",
       "   'creationTimeUnix': 1675400308853,\n",
       "   'id': 'f2628554-8e7d-445b-bf41-0bf76296887c',\n",
       "   'lastUpdateTimeUnix': 1675400308853,\n",
       "   'properties': {'answer': 'Sound barrier',\n",
       "    'category': 'SCIENCE',\n",
       "    'question': 'In 70-degree air, a plane traveling at about 1,130 feet per second breaks it'},\n",
       "   'vectorWeights': None},\n",
       "  {'class': 'Question',\n",
       "   'creationTimeUnix': 1675400308853,\n",
       "   'id': 'f34936d9-5339-46ac-b84d-891cd67df11a',\n",
       "   'lastUpdateTimeUnix': 1675400308853,\n",
       "   'properties': {'answer': 'the nose or snout',\n",
       "    'category': 'ANIMALS',\n",
       "    'question': 'The gavial looks very much like a crocodile except for this bodily feature'},\n",
       "   'vectorWeights': None},\n",
       "  {'class': 'Question',\n",
       "   'creationTimeUnix': 1675400308853,\n",
       "   'id': 'f9277248-bc1f-4b47-942a-fce983c33a73',\n",
       "   'lastUpdateTimeUnix': 1675400308853,\n",
       "   'properties': {'answer': 'species',\n",
       "    'category': 'SCIENCE',\n",
       "    'question': \"2000 news: the Gunnison sage grouse isn't just another northern sage grouse, but a new one of this classification\"},\n",
       "   'vectorWeights': None},\n",
       "  {'class': 'Question',\n",
       "   'creationTimeUnix': 1675400308853,\n",
       "   'id': 'fc38db90-2c50-4ad8-91e5-176ce154298e',\n",
       "   'lastUpdateTimeUnix': 1675400308853,\n",
       "   'properties': {'answer': 'Elephant',\n",
       "    'category': 'ANIMALS',\n",
       "    'question': \"It's the only living mammal in the order Proboseidea\"},\n",
       "   'vectorWeights': None}],\n",
       " 'totalResults': 10}"
      ]
     },
     "execution_count": 6,
     "metadata": {},
     "output_type": "execute_result"
    }
   ],
   "source": [
    "client.data_object.get()"
   ]
  },
  {
   "cell_type": "code",
   "execution_count": 7,
   "id": "7649b19d-b361-41d8-b211-1cf92a890472",
   "metadata": {},
   "outputs": [
    {
     "name": "stdout",
     "output_type": "stream",
     "text": [
      "{\n",
      "    \"data\": {\n",
      "        \"Get\": {\n",
      "            \"Question\": [\n",
      "                {\n",
      "                    \"answer\": \"DNA\",\n",
      "                    \"category\": \"SCIENCE\",\n",
      "                    \"question\": \"In 1953 Watson & Crick built a model of the molecular structure of this, the gene-carrying substance\"\n",
      "                },\n",
      "                {\n",
      "                    \"answer\": \"species\",\n",
      "                    \"category\": \"SCIENCE\",\n",
      "                    \"question\": \"2000 news: the Gunnison sage grouse isn't just another northern sage grouse, but a new one of this classification\"\n",
      "                }\n",
      "            ]\n",
      "        }\n",
      "    }\n",
      "}\n"
     ]
    }
   ],
   "source": [
    "nearText = {\"concepts\": [\"biology\"]}\n",
    "\n",
    "result = (\n",
    "    client.query\n",
    "    .get(\"Question\", [\"question\", \"answer\", \"category\"])\n",
    "    .with_near_text(nearText)\n",
    "    .with_limit(2)\n",
    "    .do()\n",
    ")\n",
    "\n",
    "print(json.dumps(result, indent=4))"
   ]
  },
  {
   "cell_type": "code",
   "execution_count": null,
   "id": "a05792a7-5ccc-4cac-88d7-ca0d47e7c99a",
   "metadata": {},
   "outputs": [],
   "source": []
  }
 ],
 "metadata": {
  "kernelspec": {
   "display_name": "Python 3 (ipykernel)",
   "language": "python",
   "name": "python3"
  },
  "language_info": {
   "codemirror_mode": {
    "name": "ipython",
    "version": 3
   },
   "file_extension": ".py",
   "mimetype": "text/x-python",
   "name": "python",
   "nbconvert_exporter": "python",
   "pygments_lexer": "ipython3",
   "version": "3.10.6"
  },
  "vscode": {
   "interpreter": {
    "hash": "b54d4ba99b24d6af6c6e2318c036f036af52db3070df9ef128d3a87bd5db1748"
   }
  }
 },
 "nbformat": 4,
 "nbformat_minor": 5
}
